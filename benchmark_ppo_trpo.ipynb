{
 "cells": [
  {
   "cell_type": "code",
   "execution_count": null,
   "metadata": {},
   "outputs": [],
   "source": [
    "from rlberry.agents.torch import PPOAgent\n",
    "from rlberry.agents.torch import TRPOAgent\n",
    "from rlberry.envs.benchmarks.bullet3.pybullet_envs.gym_pendulum_envs import PendulumBulletEnv\n",
    "from rlberry.envs.benchmarks.bullet3.pybullet_envs.robot_bases import MJCFBasedRobot2\n",
    "from rlberry.envs.benchmarks.bullet3.pybullet_envs.robot_pendula import Pendulum\n"
   ]
  },
  {
   "cell_type": "code",
   "execution_count": 6,
   "metadata": {},
   "outputs": [
    {
     "name": "stdout",
     "output_type": "stream",
     "text": [
      "File Name: PPO_BallLevel1.csv\n",
      "File Name: PPO_BallLevel2.csv\n",
      "File Name: PPO_BallLevel3.csv\n",
      "File Name: PPO_BallLevel4.csv\n",
      "File Name: PPO_BallLevel5.csv\n",
      "File Name: PPO_PBall2D.csv\n",
      "File Name: PPO_brm_BallLevel1.csv\n",
      "File Name: PPO_brm_BallLevel2.csv\n",
      "File Name: PPO_brm_BallLevel3.csv\n",
      "File Name: PPO_brm_BallLevel4.csv\n",
      "File Name: PPO_brm_BallLevel5.csv\n",
      "File Name: PPO_brm_PBall2D.csv\n",
      "File Name: TRPO_BallLevel1.csv\n",
      "File Name: TRPO_BallLevel2.csv\n",
      "File Name: TRPO_BallLevel3.csv\n",
      "File Name: TRPO_BallLevel4.csv\n",
      "File Name: TRPO_BallLevel5.csv\n",
      "File Name: TRPO_PBall2D.csv\n"
     ]
    }
   ],
   "source": [
    "import matplotlib.pyplot as plt\n",
    "import pandas as pd\n",
    "import os\n",
    "import glob\n",
    "\n",
    "PATH = './benchmarks'\n",
    "csv_files = glob.glob(os.path.join(PATH, \"*.csv\"))\n",
    "  \n",
    "# loop over the list of csv files\n",
    "benchmark = {}\n",
    "for f in csv_files:\n",
    "      \n",
    "    # read the csv file\n",
    "    df = pd.read_csv(f, index_col=0)\n",
    "      \n",
    "    # print the location and filename\n",
    "    # print('Location:', f)\n",
    "    print('File Name:', f.split(\"/\")[-1])\n",
    "    \n",
    "    # print the content\n",
    "    # print('Content:')\n",
    "    # display(df)\n",
    "    # print()\n",
    "    benchmark[f.split(\"/\")[-1]] = df\n"
   ]
  },
  {
   "cell_type": "code",
   "execution_count": 20,
   "metadata": {},
   "outputs": [
    {
     "data": {
      "text/plain": [
       "[<matplotlib.lines.Line2D at 0x126ff8820>]"
      ]
     },
     "execution_count": 20,
     "metadata": {},
     "output_type": "execute_result"
    },
    {
     "data": {
      "image/png": "[encoded data removed]",
      "text/plain": [
       "<Figure size 432x288 with 1 Axes>"
      ]
     },
     "metadata": {
      "needs_background": "light"
     },
     "output_type": "display_data"
    }
   ],
   "source": [
    "df = benchmark['TRPO_BallLevel1.csv']\n",
    "\n",
    "plt.plot(df[df.tag == 'dw_time_elapsed'].global_step, df[df.tag == 'episode_rewards'].value)"
   ]
  },
  {
   "cell_type": "code",
   "execution_count": 21,
   "metadata": {},
   "outputs": [
    {
     "data": {
      "text/plain": [
       "[<matplotlib.lines.Line2D at 0x127064580>]"
      ]
     },
     "execution_count": 21,
     "metadata": {},
     "output_type": "execute_result"
    },
    {
     "data": {
      "image/png": "[encoded data removed]",
      "text/plain": [
       "<Figure size 432x288 with 1 Axes>"
      ]
     },
     "metadata": {
      "needs_background": "light"
     },
     "output_type": "display_data"
    }
   ],
   "source": [
    "df[df.tag == 'dw_time_elapsed']\n",
    "\n",
    "plt.plot(df[df.tag == 'dw_time_elapsed'].global_step, df[df.tag == 'dw_time_elapsed'].value)"
   ]
  },
  {
   "cell_type": "code",
   "execution_count": 17,
   "metadata": {},
   "outputs": [
    {
     "data": {
      "text/html": [
       "<div>\n",
       "<style scoped>\n",
       "    .dataframe tbody tr th:only-of-type {\n",
       "        vertical-align: middle;\n",
       "    }\n",
       "\n",
       "    .dataframe tbody tr th {\n",
       "        vertical-align: top;\n",
       "    }\n",
       "\n",
       "    .dataframe thead th {\n",
       "        text-align: right;\n",
       "    }\n",
       "</style>\n",
       "<table border=\"1\" class=\"dataframe\">\n",
       "  <thead>\n",
       "    <tr style=\"text-align: right;\">\n",
       "      <th></th>\n",
       "      <th>name</th>\n",
       "      <th>tag</th>\n",
       "      <th>value</th>\n",
       "      <th>global_step</th>\n",
       "    </tr>\n",
       "  </thead>\n",
       "  <tbody>\n",
       "    <tr>\n",
       "      <th>200</th>\n",
       "      <td>TRPO</td>\n",
       "      <td>dw_time_elapsed</td>\n",
       "      <td>3.402295</td>\n",
       "      <td>1</td>\n",
       "    </tr>\n",
       "    <tr>\n",
       "      <th>201</th>\n",
       "      <td>TRPO</td>\n",
       "      <td>dw_time_elapsed</td>\n",
       "      <td>6.710862</td>\n",
       "      <td>2</td>\n",
       "    </tr>\n",
       "    <tr>\n",
       "      <th>202</th>\n",
       "      <td>TRPO</td>\n",
       "      <td>dw_time_elapsed</td>\n",
       "      <td>10.022682</td>\n",
       "      <td>3</td>\n",
       "    </tr>\n",
       "    <tr>\n",
       "      <th>203</th>\n",
       "      <td>TRPO</td>\n",
       "      <td>dw_time_elapsed</td>\n",
       "      <td>13.337438</td>\n",
       "      <td>4</td>\n",
       "    </tr>\n",
       "    <tr>\n",
       "      <th>204</th>\n",
       "      <td>TRPO</td>\n",
       "      <td>dw_time_elapsed</td>\n",
       "      <td>16.638889</td>\n",
       "      <td>5</td>\n",
       "    </tr>\n",
       "    <tr>\n",
       "      <th>...</th>\n",
       "      <td>...</td>\n",
       "      <td>...</td>\n",
       "      <td>...</td>\n",
       "      <td>...</td>\n",
       "    </tr>\n",
       "    <tr>\n",
       "      <th>395</th>\n",
       "      <td>TRPO</td>\n",
       "      <td>dw_time_elapsed</td>\n",
       "      <td>638.839081</td>\n",
       "      <td>196</td>\n",
       "    </tr>\n",
       "    <tr>\n",
       "      <th>396</th>\n",
       "      <td>TRPO</td>\n",
       "      <td>dw_time_elapsed</td>\n",
       "      <td>642.346353</td>\n",
       "      <td>197</td>\n",
       "    </tr>\n",
       "    <tr>\n",
       "      <th>397</th>\n",
       "      <td>TRPO</td>\n",
       "      <td>dw_time_elapsed</td>\n",
       "      <td>645.844171</td>\n",
       "      <td>198</td>\n",
       "    </tr>\n",
       "    <tr>\n",
       "      <th>398</th>\n",
       "      <td>TRPO</td>\n",
       "      <td>dw_time_elapsed</td>\n",
       "      <td>649.339208</td>\n",
       "      <td>199</td>\n",
       "    </tr>\n",
       "    <tr>\n",
       "      <th>399</th>\n",
       "      <td>TRPO</td>\n",
       "      <td>dw_time_elapsed</td>\n",
       "      <td>652.830880</td>\n",
       "      <td>200</td>\n",
       "    </tr>\n",
       "  </tbody>\n",
       "</table>\n",
       "<p>200 rows × 4 columns</p>\n",
       "</div>"
      ],
      "text/plain": [
       "     name              tag       value  global_step\n",
       "200  TRPO  dw_time_elapsed    3.402295            1\n",
       "201  TRPO  dw_time_elapsed    6.710862            2\n",
       "202  TRPO  dw_time_elapsed   10.022682            3\n",
       "203  TRPO  dw_time_elapsed   13.337438            4\n",
       "204  TRPO  dw_time_elapsed   16.638889            5\n",
       "..    ...              ...         ...          ...\n",
       "395  TRPO  dw_time_elapsed  638.839081          196\n",
       "396  TRPO  dw_time_elapsed  642.346353          197\n",
       "397  TRPO  dw_time_elapsed  645.844171          198\n",
       "398  TRPO  dw_time_elapsed  649.339208          199\n",
       "399  TRPO  dw_time_elapsed  652.830880          200\n",
       "\n",
       "[200 rows x 4 columns]"
      ]
     },
     "execution_count": 17,
     "metadata": {},
     "output_type": "execute_result"
    }
   ],
   "source": [
    "df[df.tag == 'dw_time_elapsed']"
   ]
  }
 ],
 "metadata": {
  "interpreter": {
   "hash": "0adcc2737ebf6a4a119f135174df96668767fca1ef1112612db5ecadf2b6d608"
  },
  "kernelspec": {
   "display_name": "Python 3.8.10 64-bit",
   "language": "python",
   "name": "python3"
  },
  "language_info": {
   "codemirror_mode": {
    "name": "ipython",
    "version": 3
   },
   "file_extension": ".py",
   "mimetype": "text/x-python",
   "name": "python",
   "nbconvert_exporter": "python",
   "pygments_lexer": "ipython3",
   "version": "3.8.10"
  },
  "orig_nbformat": 4
 },
 "nbformat": 4,
 "nbformat_minor": 2
}
